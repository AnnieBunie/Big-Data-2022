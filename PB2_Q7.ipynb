{
  "cells": [
    {
      "cell_type": "code",
      "source": [
        "! apt update &> /dev/null\n",
        "! apt install mongodb | tail\n"
      ],
      "metadata": {
        "colab": {
          "base_uri": "https://localhost:8080/"
        },
        "id": "W6PpRFGA8bI4",
        "outputId": "b8a7caae-fc3a-4d55-95b1-46237e452b87"
      },
      "execution_count": 15,
      "outputs": [
        {
          "output_type": "stream",
          "name": "stdout",
          "text": [
            "\n",
            "WARNING: apt does not have a stable CLI interface. Use with caution in scripts.\n",
            "\n",
            "Reading package lists...\n",
            "Building dependency tree...\n",
            "Reading state information...\n",
            "mongodb is already the newest version (1:3.6.3-0ubuntu1.4).\n",
            "The following package was automatically installed and is no longer required:\n",
            "  libnvidia-common-460\n",
            "Use 'apt autoremove' to remove it.\n",
            "0 upgraded, 0 newly installed, 0 to remove and 47 not upgraded.\n"
          ]
        }
      ]
    },
    {
      "cell_type": "code",
      "source": [
        "!service mongodb start"
      ],
      "metadata": {
        "colab": {
          "base_uri": "https://localhost:8080/"
        },
        "id": "1zg6fafU8tLc",
        "outputId": "1434ed7f-fbdf-4230-a164-f22dc92872a9"
      },
      "execution_count": 34,
      "outputs": [
        {
          "output_type": "stream",
          "name": "stdout",
          "text": [
            " * Starting database mongodb\n",
            "   ...done.\n"
          ]
        }
      ]
    },
    {
      "cell_type": "code",
      "source": [
        "! pip install pymongo --quiet"
      ],
      "metadata": {
        "id": "zGy_0wPM8wnY"
      },
      "execution_count": 35,
      "outputs": []
    },
    {
      "cell_type": "code",
      "source": [
        "import pymongo\n",
        "\n",
        "# connect to localhost on default port 27017\n",
        "client = pymongo.MongoClient('127.0.0.1', 27017)\n",
        "\n",
        "# get/create a database with name `database_name`\n",
        "db = client['database_name']\n",
        "# get/create a collection in the database called `test_col`\n",
        "col = db.get_collection('test_col')\n",
        "\n",
        "\n",
        "d1 = ' the cat sat on the mat '\n",
        "d2 = ' the dog sat on the log ' \n",
        "# insert two documents with <document_id, text>\n",
        "col.insert_one({'document_id': 'D1', 'text': d1})\n",
        "col.insert_one({'document_id': 'D2', 'text': d2})\n",
        "list(col.find({}))\n",
        "\n",
        "# teardown\n",
        "\n",
        "client.drop_database('database_name')"
      ],
      "metadata": {
        "id": "Mm8xbrXXCk9Q"
      },
      "execution_count": 41,
      "outputs": []
    },
    {
      "cell_type": "code",
      "execution_count": 79,
      "metadata": {
        "colab": {
          "base_uri": "https://localhost:8080/"
        },
        "id": "zAH3qUOcy0U7",
        "outputId": "5db6f5f4-508b-47af-863d-e3c6838049b0"
      },
      "outputs": [
        {
          "output_type": "stream",
          "name": "stdout",
          "text": [
            "Connected successfully!!!\n"
          ]
        },
        {
          "output_type": "execute_result",
          "data": {
            "text/plain": [
              "<pymongo.results.InsertManyResult at 0x7fdd459f0690>"
            ]
          },
          "metadata": {},
          "execution_count": 79
        }
      ],
      "source": [
        "import requests\n",
        "import pymongo\n",
        "import json\n",
        "\n",
        "url = \"https://us-ie-big-data-technologies.ew.r.appspot.com/api/v1/events?asset_contract_address=0xb47e3cd837dDF8e4c57F05d70Ab865de6e193BBB&occurred_after=2021-09-01T00%3A00%3A00%2B02%3A00&occurred_before=2021-10-01T00%3A00%3A00%2B02%3A00&collection_slug=cryptopunks\"\n",
        "\n",
        "headers = {\"Accept\": \"application/json\"}\n",
        "\n",
        "response = requests.request(\"GET\", url, headers=headers)\n",
        "\n",
        "json_object = json.loads(response.text)\n",
        "# print(json_object)\n",
        "  \n",
        "try:\n",
        "    client = pymongo.MongoClient('127.0.0.1', 27017)\n",
        "    print(\"Connected successfully!!!\")\n",
        "except:  \n",
        "    print(\"Could not connect to MongoDB\")\n",
        "    \n",
        "db = client['cryptopunksDB']\n",
        "cryptropunks = db.get_collection('cryptropunks')\n",
        "array = json_object[\"asset_events\"]\n",
        "\n",
        "cryptropunks.insert_many(array)"
      ]
    },
    {
      "cell_type": "code",
      "source": [
        "cryptropunks.count_documents({})"
      ],
      "metadata": {
        "colab": {
          "base_uri": "https://localhost:8080/"
        },
        "id": "_upFTjlfJNgs",
        "outputId": "68367e46-462f-4d57-8fdd-d1c7bd57ae48"
      },
      "execution_count": 68,
      "outputs": [
        {
          "output_type": "execute_result",
          "data": {
            "text/plain": [
              "80"
            ]
          },
          "metadata": {},
          "execution_count": 68
        }
      ]
    },
    {
      "cell_type": "code",
      "source": [
        "x = db.cryptropunks.find({}, { \"total_price\": 1, \"asset.token_id\": 1 }).sort(\"total_price\", pymongo.DESCENDING).limit(10)\n",
        "\n",
        "for i in x:\n",
        "    print(i)\n"
      ],
      "metadata": {
        "colab": {
          "base_uri": "https://localhost:8080/"
        },
        "id": "R7FEDRXFHcnP",
        "outputId": "2ea920e9-4b7a-4a5b-8335-0ac7087684b1"
      },
      "execution_count": 65,
      "outputs": [
        {
          "output_type": "stream",
          "name": "stdout",
          "text": [
            "{'_id': ObjectId('631e382f74fcacf85fa4f5d1'), 'asset': {'token_id': '618'}, 'total_price': '97250000000000000000'}\n",
            "{'_id': ObjectId('631e390674fcacf85fa4f5dc'), 'asset': {'token_id': '618'}, 'total_price': '97250000000000000000'}\n",
            "{'_id': ObjectId('631e392d74fcacf85fa4f5e7'), 'asset': {'token_id': '618'}, 'total_price': '97250000000000000000'}\n",
            "{'_id': ObjectId('631e394074fcacf85fa4f5f2'), 'asset': {'token_id': '618'}, 'total_price': '97250000000000000000'}\n",
            "{'_id': ObjectId('631e394974fcacf85fa4f5fd'), 'asset': {'token_id': '618'}, 'total_price': '97250000000000000000'}\n",
            "{'_id': ObjectId('631e3ac774fcacf85fa4f608'), 'asset': {'token_id': '618'}, 'total_price': '97250000000000000000'}\n",
            "{'_id': ObjectId('631e3ad074fcacf85fa4f613'), 'asset': {'token_id': '618'}, 'total_price': '97250000000000000000'}\n",
            "{'_id': ObjectId('631e382f74fcacf85fa4f5cf'), 'asset': {'token_id': '503'}, 'total_price': '94500000000000000000'}\n",
            "{'_id': ObjectId('631e390674fcacf85fa4f5da'), 'asset': {'token_id': '503'}, 'total_price': '94500000000000000000'}\n",
            "{'_id': ObjectId('631e392d74fcacf85fa4f5e5'), 'asset': {'token_id': '503'}, 'total_price': '94500000000000000000'}\n"
          ]
        }
      ]
    },
    {
      "cell_type": "code",
      "execution_count": 76,
      "metadata": {
        "colab": {
          "base_uri": "https://localhost:8080/"
        },
        "id": "QuF6lJn7y0U_",
        "outputId": "6413e3db-4b45-4f5d-9906-38a3e4dbe303"
      },
      "outputs": [
        {
          "output_type": "stream",
          "name": "stdout",
          "text": [
            "631e382f74fcacf85fa4f5ca\n",
            "631e382f74fcacf85fa4f5cb\n",
            "631e382f74fcacf85fa4f5cc\n",
            "631e382f74fcacf85fa4f5cd\n",
            "631e382f74fcacf85fa4f5ce\n",
            "631e382f74fcacf85fa4f5cf\n",
            "631e382f74fcacf85fa4f5d0\n",
            "631e382f74fcacf85fa4f5d1\n",
            "631e382f74fcacf85fa4f5d2\n",
            "631e382f74fcacf85fa4f5d3\n",
            "631e390674fcacf85fa4f5d5\n",
            "631e390674fcacf85fa4f5d6\n",
            "631e390674fcacf85fa4f5d7\n",
            "631e390674fcacf85fa4f5d8\n",
            "631e390674fcacf85fa4f5d9\n",
            "631e390674fcacf85fa4f5da\n",
            "631e390674fcacf85fa4f5db\n",
            "631e390674fcacf85fa4f5dc\n",
            "631e390674fcacf85fa4f5dd\n",
            "631e390674fcacf85fa4f5de\n",
            "631e392d74fcacf85fa4f5e0\n",
            "631e392d74fcacf85fa4f5e1\n",
            "631e392d74fcacf85fa4f5e2\n",
            "631e392d74fcacf85fa4f5e3\n",
            "631e392d74fcacf85fa4f5e4\n",
            "631e392d74fcacf85fa4f5e5\n",
            "631e392d74fcacf85fa4f5e6\n",
            "631e392d74fcacf85fa4f5e7\n",
            "631e392d74fcacf85fa4f5e8\n",
            "631e392d74fcacf85fa4f5e9\n",
            "631e394074fcacf85fa4f5eb\n",
            "631e394074fcacf85fa4f5ec\n",
            "631e394074fcacf85fa4f5ed\n",
            "631e394074fcacf85fa4f5ee\n",
            "631e394074fcacf85fa4f5ef\n",
            "631e394074fcacf85fa4f5f0\n",
            "631e394074fcacf85fa4f5f1\n",
            "631e394074fcacf85fa4f5f2\n",
            "631e394074fcacf85fa4f5f3\n",
            "631e394074fcacf85fa4f5f4\n",
            "631e394974fcacf85fa4f5f6\n",
            "631e394974fcacf85fa4f5f7\n",
            "631e394974fcacf85fa4f5f8\n",
            "631e394974fcacf85fa4f5f9\n",
            "631e394974fcacf85fa4f5fa\n",
            "631e394974fcacf85fa4f5fb\n",
            "631e394974fcacf85fa4f5fc\n",
            "631e394974fcacf85fa4f5fd\n",
            "631e394974fcacf85fa4f5fe\n",
            "631e394974fcacf85fa4f5ff\n",
            "631e3ac774fcacf85fa4f601\n",
            "631e3ac774fcacf85fa4f602\n",
            "631e3ac774fcacf85fa4f603\n",
            "631e3ac774fcacf85fa4f604\n",
            "631e3ac774fcacf85fa4f605\n",
            "631e3ac774fcacf85fa4f606\n",
            "631e3ac774fcacf85fa4f607\n",
            "631e3ac774fcacf85fa4f608\n",
            "631e3ac774fcacf85fa4f609\n",
            "631e3ac774fcacf85fa4f60a\n",
            "631e3ad074fcacf85fa4f60c\n",
            "631e3ad074fcacf85fa4f60d\n",
            "631e3ad074fcacf85fa4f60e\n",
            "631e3ad074fcacf85fa4f60f\n",
            "631e3ad074fcacf85fa4f610\n",
            "631e3ad074fcacf85fa4f611\n",
            "631e3ad074fcacf85fa4f612\n",
            "631e3ad074fcacf85fa4f613\n",
            "631e3ad074fcacf85fa4f614\n",
            "631e3ad074fcacf85fa4f615\n",
            "631e3eba74fcacf85fa4f617\n",
            "631e3eba74fcacf85fa4f618\n",
            "631e3eba74fcacf85fa4f619\n",
            "631e3eba74fcacf85fa4f61a\n",
            "631e3eba74fcacf85fa4f61b\n",
            "631e3eba74fcacf85fa4f61c\n",
            "631e3eba74fcacf85fa4f61d\n",
            "631e3eba74fcacf85fa4f61e\n",
            "631e3eba74fcacf85fa4f61f\n",
            "631e3eba74fcacf85fa4f620\n"
          ]
        }
      ],
      "source": [
        "for testy in cryptropunks.find().distinct('_id'):\n",
        "    print(testy)"
      ]
    },
    {
      "cell_type": "code",
      "execution_count": 59,
      "metadata": {
        "colab": {
          "base_uri": "https://localhost:8080/"
        },
        "id": "tYjdgb4wy0U_",
        "outputId": "1caf99e3-0609-4044-cba0-028b51f981d3"
      },
      "outputs": [
        {
          "output_type": "stream",
          "name": "stdout",
          "text": [
            "{'_id': ObjectId('631e382f74fcacf85fa4f5d2'), 'created_date': '2021-09-03T17:54:01.767765'}\n",
            "{'_id': ObjectId('631e390674fcacf85fa4f5dd'), 'created_date': '2021-09-03T17:54:01.767765'}\n",
            "{'_id': ObjectId('631e392d74fcacf85fa4f5e8'), 'created_date': '2021-09-03T17:54:01.767765'}\n",
            "{'_id': ObjectId('631e394074fcacf85fa4f5f3'), 'created_date': '2021-09-03T17:54:01.767765'}\n",
            "{'_id': ObjectId('631e394974fcacf85fa4f5fe'), 'created_date': '2021-09-03T17:54:01.767765'}\n",
            "{'_id': ObjectId('631e3ac774fcacf85fa4f609'), 'created_date': '2021-09-03T17:54:01.767765'}\n",
            "{'_id': ObjectId('631e3ad074fcacf85fa4f614'), 'created_date': '2021-09-03T17:54:01.767765'}\n",
            "{'_id': ObjectId('631e382f74fcacf85fa4f5d3'), 'created_date': '2021-09-03T20:10:28.636030'}\n",
            "{'_id': ObjectId('631e390674fcacf85fa4f5de'), 'created_date': '2021-09-03T20:10:28.636030'}\n",
            "{'_id': ObjectId('631e392d74fcacf85fa4f5e9'), 'created_date': '2021-09-03T20:10:28.636030'}\n",
            "{'_id': ObjectId('631e394074fcacf85fa4f5f4'), 'created_date': '2021-09-03T20:10:28.636030'}\n",
            "{'_id': ObjectId('631e394974fcacf85fa4f5ff'), 'created_date': '2021-09-03T20:10:28.636030'}\n",
            "{'_id': ObjectId('631e3ac774fcacf85fa4f60a'), 'created_date': '2021-09-03T20:10:28.636030'}\n",
            "{'_id': ObjectId('631e3ad074fcacf85fa4f615'), 'created_date': '2021-09-03T20:10:28.636030'}\n",
            "{'_id': ObjectId('631e382f74fcacf85fa4f5d1'), 'created_date': '2021-09-04T08:27:39.912363'}\n",
            "{'_id': ObjectId('631e390674fcacf85fa4f5dc'), 'created_date': '2021-09-04T08:27:39.912363'}\n",
            "{'_id': ObjectId('631e392d74fcacf85fa4f5e7'), 'created_date': '2021-09-04T08:27:39.912363'}\n",
            "{'_id': ObjectId('631e394074fcacf85fa4f5f2'), 'created_date': '2021-09-04T08:27:39.912363'}\n",
            "{'_id': ObjectId('631e394974fcacf85fa4f5fd'), 'created_date': '2021-09-04T08:27:39.912363'}\n",
            "{'_id': ObjectId('631e3ac774fcacf85fa4f608'), 'created_date': '2021-09-04T08:27:39.912363'}\n",
            "{'_id': ObjectId('631e3ad074fcacf85fa4f613'), 'created_date': '2021-09-04T08:27:39.912363'}\n",
            "{'_id': ObjectId('631e382f74fcacf85fa4f5ce'), 'created_date': '2021-09-05T20:50:47.046217'}\n",
            "{'_id': ObjectId('631e390674fcacf85fa4f5d9'), 'created_date': '2021-09-05T20:50:47.046217'}\n",
            "{'_id': ObjectId('631e392d74fcacf85fa4f5e4'), 'created_date': '2021-09-05T20:50:47.046217'}\n",
            "{'_id': ObjectId('631e394074fcacf85fa4f5ef'), 'created_date': '2021-09-05T20:50:47.046217'}\n",
            "{'_id': ObjectId('631e394974fcacf85fa4f5fa'), 'created_date': '2021-09-05T20:50:47.046217'}\n",
            "{'_id': ObjectId('631e3ac774fcacf85fa4f605'), 'created_date': '2021-09-05T20:50:47.046217'}\n",
            "{'_id': ObjectId('631e3ad074fcacf85fa4f610'), 'created_date': '2021-09-05T20:50:47.046217'}\n",
            "{'_id': ObjectId('631e382f74fcacf85fa4f5cf'), 'created_date': '2021-09-10T06:01:13.192045'}\n",
            "{'_id': ObjectId('631e390674fcacf85fa4f5da'), 'created_date': '2021-09-10T06:01:13.192045'}\n",
            "{'_id': ObjectId('631e392d74fcacf85fa4f5e5'), 'created_date': '2021-09-10T06:01:13.192045'}\n",
            "{'_id': ObjectId('631e394074fcacf85fa4f5f0'), 'created_date': '2021-09-10T06:01:13.192045'}\n",
            "{'_id': ObjectId('631e394974fcacf85fa4f5fb'), 'created_date': '2021-09-10T06:01:13.192045'}\n",
            "{'_id': ObjectId('631e3ac774fcacf85fa4f606'), 'created_date': '2021-09-10T06:01:13.192045'}\n",
            "{'_id': ObjectId('631e3ad074fcacf85fa4f611'), 'created_date': '2021-09-10T06:01:13.192045'}\n",
            "{'_id': ObjectId('631e382f74fcacf85fa4f5cd'), 'created_date': '2021-09-13T18:44:33.350364'}\n",
            "{'_id': ObjectId('631e390674fcacf85fa4f5d8'), 'created_date': '2021-09-13T18:44:33.350364'}\n",
            "{'_id': ObjectId('631e392d74fcacf85fa4f5e3'), 'created_date': '2021-09-13T18:44:33.350364'}\n",
            "{'_id': ObjectId('631e394074fcacf85fa4f5ee'), 'created_date': '2021-09-13T18:44:33.350364'}\n",
            "{'_id': ObjectId('631e394974fcacf85fa4f5f9'), 'created_date': '2021-09-13T18:44:33.350364'}\n",
            "{'_id': ObjectId('631e3ac774fcacf85fa4f604'), 'created_date': '2021-09-13T18:44:33.350364'}\n",
            "{'_id': ObjectId('631e3ad074fcacf85fa4f60f'), 'created_date': '2021-09-13T18:44:33.350364'}\n",
            "{'_id': ObjectId('631e382f74fcacf85fa4f5d0'), 'created_date': '2021-09-23T19:22:11.234407'}\n",
            "{'_id': ObjectId('631e390674fcacf85fa4f5db'), 'created_date': '2021-09-23T19:22:11.234407'}\n",
            "{'_id': ObjectId('631e392d74fcacf85fa4f5e6'), 'created_date': '2021-09-23T19:22:11.234407'}\n",
            "{'_id': ObjectId('631e394074fcacf85fa4f5f1'), 'created_date': '2021-09-23T19:22:11.234407'}\n",
            "{'_id': ObjectId('631e394974fcacf85fa4f5fc'), 'created_date': '2021-09-23T19:22:11.234407'}\n",
            "{'_id': ObjectId('631e3ac774fcacf85fa4f607'), 'created_date': '2021-09-23T19:22:11.234407'}\n",
            "{'_id': ObjectId('631e3ad074fcacf85fa4f612'), 'created_date': '2021-09-23T19:22:11.234407'}\n",
            "{'_id': ObjectId('631e382f74fcacf85fa4f5ca'), 'created_date': '2021-09-27T10:22:15.093167'}\n",
            "{'_id': ObjectId('631e390674fcacf85fa4f5d5'), 'created_date': '2021-09-27T10:22:15.093167'}\n",
            "{'_id': ObjectId('631e392d74fcacf85fa4f5e0'), 'created_date': '2021-09-27T10:22:15.093167'}\n",
            "{'_id': ObjectId('631e394074fcacf85fa4f5eb'), 'created_date': '2021-09-27T10:22:15.093167'}\n",
            "{'_id': ObjectId('631e394974fcacf85fa4f5f6'), 'created_date': '2021-09-27T10:22:15.093167'}\n",
            "{'_id': ObjectId('631e3ac774fcacf85fa4f601'), 'created_date': '2021-09-27T10:22:15.093167'}\n",
            "{'_id': ObjectId('631e3ad074fcacf85fa4f60c'), 'created_date': '2021-09-27T10:22:15.093167'}\n",
            "{'_id': ObjectId('631e382f74fcacf85fa4f5cc'), 'created_date': '2021-09-28T20:19:31.019328'}\n",
            "{'_id': ObjectId('631e390674fcacf85fa4f5d7'), 'created_date': '2021-09-28T20:19:31.019328'}\n",
            "{'_id': ObjectId('631e392d74fcacf85fa4f5e2'), 'created_date': '2021-09-28T20:19:31.019328'}\n",
            "{'_id': ObjectId('631e394074fcacf85fa4f5ed'), 'created_date': '2021-09-28T20:19:31.019328'}\n",
            "{'_id': ObjectId('631e394974fcacf85fa4f5f8'), 'created_date': '2021-09-28T20:19:31.019328'}\n",
            "{'_id': ObjectId('631e3ac774fcacf85fa4f603'), 'created_date': '2021-09-28T20:19:31.019328'}\n",
            "{'_id': ObjectId('631e3ad074fcacf85fa4f60e'), 'created_date': '2021-09-28T20:19:31.019328'}\n",
            "{'_id': ObjectId('631e382f74fcacf85fa4f5cb'), 'created_date': '2021-09-30T11:39:46.742001'}\n",
            "{'_id': ObjectId('631e390674fcacf85fa4f5d6'), 'created_date': '2021-09-30T11:39:46.742001'}\n",
            "{'_id': ObjectId('631e392d74fcacf85fa4f5e1'), 'created_date': '2021-09-30T11:39:46.742001'}\n",
            "{'_id': ObjectId('631e394074fcacf85fa4f5ec'), 'created_date': '2021-09-30T11:39:46.742001'}\n",
            "{'_id': ObjectId('631e394974fcacf85fa4f5f7'), 'created_date': '2021-09-30T11:39:46.742001'}\n",
            "{'_id': ObjectId('631e3ac774fcacf85fa4f602'), 'created_date': '2021-09-30T11:39:46.742001'}\n",
            "{'_id': ObjectId('631e3ad074fcacf85fa4f60d'), 'created_date': '2021-09-30T11:39:46.742001'}\n"
          ]
        }
      ],
      "source": [
        "x = db.cryptropunks.find( {\"event_type\":\"successful\"}, { \"created_date\": 1 } ).sort(\"created_date\", 1)\n",
        "for i in x:\n",
        "    print(i)"
      ]
    },
    {
      "cell_type": "code",
      "execution_count": 31,
      "metadata": {
        "id": "b57pa1Fmy0VA"
      },
      "outputs": [],
      "source": [
        "x = db.cryptropunks.find( {\"event_type\":\"successful\"}, { \"created_date\": 1, \"payment_token.eth_price\": 1 } ).sort(\"created_date\", 1)\n",
        "for i in x:\n",
        "    print(i)"
      ]
    }
  ],
  "metadata": {
    "kernelspec": {
      "display_name": "Python 3",
      "language": "python",
      "name": "python3"
    },
    "language_info": {
      "codemirror_mode": {
        "name": "ipython",
        "version": 3
      },
      "file_extension": ".py",
      "mimetype": "text/x-python",
      "name": "python",
      "nbconvert_exporter": "python",
      "pygments_lexer": "ipython3",
      "version": "3.8.5"
    },
    "colab": {
      "provenance": [],
      "collapsed_sections": []
    }
  },
  "nbformat": 4,
  "nbformat_minor": 0
}