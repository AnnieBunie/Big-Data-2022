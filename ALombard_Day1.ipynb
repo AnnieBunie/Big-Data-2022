{
  "cells": [
    {
      "cell_type": "markdown",
      "metadata": {
        "id": "0gRdn8d2Fc5q"
      },
      "source": [
        "# Tutorial: Hello Bash and Python\n",
        "\n",
        "In this tutorial we will familiarise ourselves with bash and python, and Notebooks (inadvertantly). Please load this notebook in `colab.research.google.com` if you do not have a local instance of JupyterHub/JupyterLab running.\n",
        "\n",
        "\n",
        "Submission:\n",
        "\n",
        "The submission for this tutorial requires a submission on Git, as well as one on SUNLearn. You will receive an email to your student account asking you to create an account on Gitlab\n",
        "\n",
        "\n"
      ]
    },
    {
      "cell_type": "code",
      "execution_count": 11,
      "metadata": {
        "id": "7NUhqEhzFc5u"
      },
      "outputs": [],
      "source": [
        "import pandas as pd"
      ]
    },
    {
      "cell_type": "markdown",
      "metadata": {
        "id": "pJ64mO4BFc5w"
      },
      "source": [
        "## Question 1: Bash\n",
        "\n",
        "Retrieve data and interogate it with bash before using python tooling. This is useful as you may struggle with type or malformed files and a quick interogation may reveal those issues.\n"
      ]
    },
    {
      "cell_type": "markdown",
      "metadata": {
        "id": "PrzmkDjLFc5x"
      },
      "source": [
        "### Question 1.1\n",
        "\n",
        "Run the bash command `wget` to retrieve a file located at `https://storage.googleapis.com/bdt-beam/users_v.csv` [1]"
      ]
    },
    {
      "cell_type": "code",
      "execution_count": 3,
      "metadata": {
        "id": "FJzU0HLxFc5y",
        "outputId": "c9c2a8c1-778d-4f8a-d99d-74d53b4644e9",
        "colab": {
          "base_uri": "https://localhost:8080/"
        }
      },
      "outputs": [
        {
          "output_type": "stream",
          "name": "stdout",
          "text": [
            "GNU Wget 1.19.4 built on linux-gnu.\n",
            "\n",
            "-cares +digest -gpgme +https +ipv6 +iri +large-file -metalink +nls \n",
            "+ntlm +opie +psl +ssl/openssl \n",
            "\n",
            "Wgetrc: \n",
            "    /etc/wgetrc (system)\n",
            "Locale: \n",
            "    /usr/share/locale \n",
            "Compile: \n",
            "    gcc -DHAVE_CONFIG_H -DSYSTEM_WGETRC=\"/etc/wgetrc\" \n",
            "    -DLOCALEDIR=\"/usr/share/locale\" -I. -I../../src -I../lib \n",
            "    -I../../lib -Wdate-time -D_FORTIFY_SOURCE=2 -DHAVE_LIBSSL -DNDEBUG \n",
            "    -g -O2 -fdebug-prefix-map=/build/wget-Xb5Z7Y/wget-1.19.4=. \n",
            "    -fstack-protector-strong -Wformat -Werror=format-security \n",
            "    -DNO_SSLv2 -D_FILE_OFFSET_BITS=64 -g -Wall \n",
            "Link: \n",
            "    gcc -DHAVE_LIBSSL -DNDEBUG -g -O2 \n",
            "    -fdebug-prefix-map=/build/wget-Xb5Z7Y/wget-1.19.4=. \n",
            "    -fstack-protector-strong -Wformat -Werror=format-security \n",
            "    -DNO_SSLv2 -D_FILE_OFFSET_BITS=64 -g -Wall -Wl,-Bsymbolic-functions \n",
            "    -Wl,-z,relro -Wl,-z,now -lpcre -luuid -lidn2 -lssl -lcrypto -lpsl \n",
            "    ftp-opie.o openssl.o http-ntlm.o ../lib/libgnu.a \n",
            "\n",
            "Copyright (C) 2015 Free Software Foundation, Inc.\n",
            "License GPLv3+: GNU GPL version 3 or later\n",
            "<http://www.gnu.org/licenses/gpl.html>.\n",
            "This is free software: you are free to change and redistribute it.\n",
            "There is NO WARRANTY, to the extent permitted by law.\n",
            "\n",
            "Originally written by Hrvoje Niksic <hniksic@xemacs.org>.\n",
            "Please send bug reports and questions to <bug-wget@gnu.org>.\n"
          ]
        }
      ],
      "source": [
        "! wget -V"
      ]
    },
    {
      "cell_type": "code",
      "source": [
        "! wget https://storage.googleapis.com/bdt-beam/users_v.csv"
      ],
      "metadata": {
        "id": "gtCYPm5zJRJl",
        "outputId": "a96df551-469a-48f3-e7c4-1516656eee70",
        "colab": {
          "base_uri": "https://localhost:8080/"
        }
      },
      "execution_count": 4,
      "outputs": [
        {
          "output_type": "stream",
          "name": "stdout",
          "text": [
            "--2022-08-09 10:28:12--  https://storage.googleapis.com/bdt-beam/users_v.csv\n",
            "Resolving storage.googleapis.com (storage.googleapis.com)... 142.250.141.128, 142.251.2.128, 2607:f8b0:4023:c0b::80\n",
            "Connecting to storage.googleapis.com (storage.googleapis.com)|142.250.141.128|:443... connected.\n",
            "HTTP request sent, awaiting response... 200 OK\n",
            "Length: 143675 (140K) [text/csv]\n",
            "Saving to: ‘users_v.csv’\n",
            "\n",
            "users_v.csv         100%[===================>] 140.31K  --.-KB/s    in 0.002s  \n",
            "\n",
            "2022-08-09 10:28:12 (80.6 MB/s) - ‘users_v.csv’ saved [143675/143675]\n",
            "\n"
          ]
        }
      ]
    },
    {
      "cell_type": "markdown",
      "metadata": {
        "id": "gdkYYbZXFc5z"
      },
      "source": [
        "### Question 1.2\n",
        "\n",
        "Use a bash command to view the top ten elements of the file (to confirm that things are as you expect) [1]"
      ]
    },
    {
      "cell_type": "code",
      "execution_count": 6,
      "metadata": {
        "id": "TOZ4L9KEFc50",
        "outputId": "b43b885e-de48-4255-b2a2-8cf69bac8bbe",
        "colab": {
          "base_uri": "https://localhost:8080/"
        }
      },
      "outputs": [
        {
          "output_type": "stream",
          "name": "stdout",
          "text": [
            "head: cannot open '10' for reading: No such file or directory\n",
            "==> users_v.csv <==\n",
            "user_id,name,gender,age,address,date_joined\n",
            "1,Anthony Wolf,male,73,New Rachelburgh-VA-49583,2019/03/13\n",
            "2,James Armstrong,male,56,North Jillianfort-UT-86454,2020/11/06\n",
            "3,Cody Shaw,male,75,North Anne-SC-53799,2004/05/29\n",
            "4,Sierra Hamilton,female,76,New Angelafurt-ME-46190,2005/08/26\n",
            "5,Chase Davis,male,31,South Bethmouth-WI-18562,2018/04/30\n",
            "6,Sierra Andrews,female,21,Ryanville-MI-69690,2007/05/25\n",
            "7,Ann Stone,female,41,Smithmouth-SD-17340,2005/01/05\n",
            "8,Karen Santos,female,34,Mariaville-AK-29888,2003/12/12\n",
            "9,Ronald Meyer,male,41,North Cherylhaven-NJ-04197,2015/11/14\n"
          ]
        }
      ],
      "source": [
        "! head users_v.csv"
      ]
    },
    {
      "cell_type": "markdown",
      "metadata": {
        "id": "iASb847UFc51"
      },
      "source": [
        "### Question 1.3\n",
        "\n",
        "Use a bash command to determine the number of rows in the file [1]"
      ]
    },
    {
      "cell_type": "code",
      "execution_count": 7,
      "metadata": {
        "id": "kl1v4c3uFc52",
        "outputId": "f7415986-b821-4bd1-ecf8-b14f2e7ef4ab",
        "colab": {
          "base_uri": "https://localhost:8080/"
        }
      },
      "outputs": [
        {
          "output_type": "stream",
          "name": "stdout",
          "text": [
            "2358 users_v.csv\n"
          ]
        }
      ],
      "source": [
        "! wc -l users_v.csv"
      ]
    },
    {
      "cell_type": "markdown",
      "metadata": {
        "id": "j0OTOoDJFc53"
      },
      "source": [
        "### Question 1.4\n",
        "\n",
        "Suppose the file is too large for initial exploration, let's take a quick sample so that we can continue working to see what is in the data set. Loading it into Pandas at this point will mean that we are using all that memory in any case, so let's sample it before we load it.\n",
        "\n",
        "Take a random sample of the file (limited the result to 1000 lines) and create another file called `users_sample.csv`, using only bash commands [3]\n",
        "\n",
        "Hint: redirect a stream into a the output file."
      ]
    },
    {
      "cell_type": "code",
      "execution_count": 8,
      "metadata": {
        "id": "pkfn1aUzFc53"
      },
      "outputs": [],
      "source": [
        "! shuf users_v.csv | tail -1000 > users_sample.csv"
      ]
    },
    {
      "cell_type": "markdown",
      "metadata": {
        "id": "XISeJ9f9Fc54"
      },
      "source": [
        "### Question 1.5 \n",
        "\n",
        "* Sort your file by ascending `user_id`s [1]\n",
        "* Overwrite the current `users_sample.csv` with the ordered content [1]\n",
        "* Print the last ten lines of this file [1]"
      ]
    },
    {
      "cell_type": "code",
      "execution_count": 9,
      "metadata": {
        "id": "2WHFPJzcFc55",
        "outputId": "33591da2-7a28-4812-9eed-06ebcfb22717",
        "colab": {
          "base_uri": "https://localhost:8080/"
        }
      },
      "outputs": [
        {
          "output_type": "stream",
          "name": "stdout",
          "text": [
            "2342,Matthew Brown,male,55,Williamsmouth-NJ-53250,2014/09/05\n",
            "2343,Daniel Murphy,male,77,Rosarioville-MA-90831,2002/10/11\n",
            "2344,Mary Gray,female,74,West Jeffreystad-ID-25109,2000/03/23\n",
            "2347,Clayton Mendoza,male,54,Barajasview-VA-48348,2009/03/08\n",
            "2348,Victoria Edwards,female,68,Lake Jamesberg-NY-88824,2001/09/03\n",
            "2349,Chris Ellis,male,46,Port Richardside-NY-77994,2011/03/18\n",
            "2350,Kimberly Smith,female,19,East Anthony-GA-00646,2021/06/20\n",
            "2353,Brittney Graham,female,40,Brownland-CO-71229,2005/07/10\n",
            "2354,Allison Schmidt,female,43,Port Logan-MD-38588,2008/11/30\n",
            "2355,Christopher Johnson,male,68,North Justinton-VA-32798,2006/08/01\n"
          ]
        }
      ],
      "source": [
        "%%bash\n",
        "cat users_sample.csv | sort -n > tmp\n",
        "mv tmp users_sample.csv\n",
        "tail -10 users_sample.csv"
      ]
    },
    {
      "cell_type": "markdown",
      "metadata": {
        "id": "D02t9DP7Fc55"
      },
      "source": [
        "## Question 2: Python\n",
        "\n",
        "Perform analysis with Python"
      ]
    },
    {
      "cell_type": "markdown",
      "metadata": {
        "id": "fT9fgS6uFc56"
      },
      "source": [
        "### Question 2.1\n",
        "\n",
        "Load the original `users_v.csv` into a Pandas dataframe [1]"
      ]
    },
    {
      "cell_type": "code",
      "execution_count": 12,
      "metadata": {
        "id": "LlMXxMFIFc56"
      },
      "outputs": [],
      "source": [
        "df = pd.read_csv('users_v.csv')"
      ]
    },
    {
      "cell_type": "markdown",
      "metadata": {
        "id": "gddivo0FFc56"
      },
      "source": [
        "### Question 2.2\n",
        "\n",
        "Display/print the top ten lines of the dataframe [1]\n",
        "\n"
      ]
    },
    {
      "cell_type": "code",
      "execution_count": 13,
      "metadata": {
        "id": "XQt9ynkRFc57",
        "outputId": "18de336c-1dff-40b4-d255-68cc41f33477",
        "colab": {
          "base_uri": "https://localhost:8080/",
          "height": 363
        }
      },
      "outputs": [
        {
          "output_type": "execute_result",
          "data": {
            "text/plain": [
              "   user_id             name  gender  age                     address  \\\n",
              "0        1     Anthony Wolf    male   73    New Rachelburgh-VA-49583   \n",
              "1        2  James Armstrong    male   56  North Jillianfort-UT-86454   \n",
              "2        3        Cody Shaw    male   75         North Anne-SC-53799   \n",
              "3        4  Sierra Hamilton  female   76     New Angelafurt-ME-46190   \n",
              "4        5      Chase Davis    male   31    South Bethmouth-WI-18562   \n",
              "5        6   Sierra Andrews  female   21          Ryanville-MI-69690   \n",
              "6        7        Ann Stone  female   41         Smithmouth-SD-17340   \n",
              "7        8     Karen Santos  female   34         Mariaville-AK-29888   \n",
              "8        9     Ronald Meyer    male   41  North Cherylhaven-NJ-04197   \n",
              "9       10    Steven Rivera    male   43          Wayneside-VT-29040   \n",
              "\n",
              "  date_joined  \n",
              "0  2019/03/13  \n",
              "1  2020/11/06  \n",
              "2  2004/05/29  \n",
              "3  2005/08/26  \n",
              "4  2018/04/30  \n",
              "5  2007/05/25  \n",
              "6  2005/01/05  \n",
              "7  2003/12/12  \n",
              "8  2015/11/14  \n",
              "9  2003/05/15  "
            ],
            "text/html": [
              "\n",
              "  <div id=\"df-657a776c-a35d-4e30-9b59-44ff10e56af6\">\n",
              "    <div class=\"colab-df-container\">\n",
              "      <div>\n",
              "<style scoped>\n",
              "    .dataframe tbody tr th:only-of-type {\n",
              "        vertical-align: middle;\n",
              "    }\n",
              "\n",
              "    .dataframe tbody tr th {\n",
              "        vertical-align: top;\n",
              "    }\n",
              "\n",
              "    .dataframe thead th {\n",
              "        text-align: right;\n",
              "    }\n",
              "</style>\n",
              "<table border=\"1\" class=\"dataframe\">\n",
              "  <thead>\n",
              "    <tr style=\"text-align: right;\">\n",
              "      <th></th>\n",
              "      <th>user_id</th>\n",
              "      <th>name</th>\n",
              "      <th>gender</th>\n",
              "      <th>age</th>\n",
              "      <th>address</th>\n",
              "      <th>date_joined</th>\n",
              "    </tr>\n",
              "  </thead>\n",
              "  <tbody>\n",
              "    <tr>\n",
              "      <th>0</th>\n",
              "      <td>1</td>\n",
              "      <td>Anthony Wolf</td>\n",
              "      <td>male</td>\n",
              "      <td>73</td>\n",
              "      <td>New Rachelburgh-VA-49583</td>\n",
              "      <td>2019/03/13</td>\n",
              "    </tr>\n",
              "    <tr>\n",
              "      <th>1</th>\n",
              "      <td>2</td>\n",
              "      <td>James Armstrong</td>\n",
              "      <td>male</td>\n",
              "      <td>56</td>\n",
              "      <td>North Jillianfort-UT-86454</td>\n",
              "      <td>2020/11/06</td>\n",
              "    </tr>\n",
              "    <tr>\n",
              "      <th>2</th>\n",
              "      <td>3</td>\n",
              "      <td>Cody Shaw</td>\n",
              "      <td>male</td>\n",
              "      <td>75</td>\n",
              "      <td>North Anne-SC-53799</td>\n",
              "      <td>2004/05/29</td>\n",
              "    </tr>\n",
              "    <tr>\n",
              "      <th>3</th>\n",
              "      <td>4</td>\n",
              "      <td>Sierra Hamilton</td>\n",
              "      <td>female</td>\n",
              "      <td>76</td>\n",
              "      <td>New Angelafurt-ME-46190</td>\n",
              "      <td>2005/08/26</td>\n",
              "    </tr>\n",
              "    <tr>\n",
              "      <th>4</th>\n",
              "      <td>5</td>\n",
              "      <td>Chase Davis</td>\n",
              "      <td>male</td>\n",
              "      <td>31</td>\n",
              "      <td>South Bethmouth-WI-18562</td>\n",
              "      <td>2018/04/30</td>\n",
              "    </tr>\n",
              "    <tr>\n",
              "      <th>5</th>\n",
              "      <td>6</td>\n",
              "      <td>Sierra Andrews</td>\n",
              "      <td>female</td>\n",
              "      <td>21</td>\n",
              "      <td>Ryanville-MI-69690</td>\n",
              "      <td>2007/05/25</td>\n",
              "    </tr>\n",
              "    <tr>\n",
              "      <th>6</th>\n",
              "      <td>7</td>\n",
              "      <td>Ann Stone</td>\n",
              "      <td>female</td>\n",
              "      <td>41</td>\n",
              "      <td>Smithmouth-SD-17340</td>\n",
              "      <td>2005/01/05</td>\n",
              "    </tr>\n",
              "    <tr>\n",
              "      <th>7</th>\n",
              "      <td>8</td>\n",
              "      <td>Karen Santos</td>\n",
              "      <td>female</td>\n",
              "      <td>34</td>\n",
              "      <td>Mariaville-AK-29888</td>\n",
              "      <td>2003/12/12</td>\n",
              "    </tr>\n",
              "    <tr>\n",
              "      <th>8</th>\n",
              "      <td>9</td>\n",
              "      <td>Ronald Meyer</td>\n",
              "      <td>male</td>\n",
              "      <td>41</td>\n",
              "      <td>North Cherylhaven-NJ-04197</td>\n",
              "      <td>2015/11/14</td>\n",
              "    </tr>\n",
              "    <tr>\n",
              "      <th>9</th>\n",
              "      <td>10</td>\n",
              "      <td>Steven Rivera</td>\n",
              "      <td>male</td>\n",
              "      <td>43</td>\n",
              "      <td>Wayneside-VT-29040</td>\n",
              "      <td>2003/05/15</td>\n",
              "    </tr>\n",
              "  </tbody>\n",
              "</table>\n",
              "</div>\n",
              "      <button class=\"colab-df-convert\" onclick=\"convertToInteractive('df-657a776c-a35d-4e30-9b59-44ff10e56af6')\"\n",
              "              title=\"Convert this dataframe to an interactive table.\"\n",
              "              style=\"display:none;\">\n",
              "        \n",
              "  <svg xmlns=\"http://www.w3.org/2000/svg\" height=\"24px\"viewBox=\"0 0 24 24\"\n",
              "       width=\"24px\">\n",
              "    <path d=\"M0 0h24v24H0V0z\" fill=\"none\"/>\n",
              "    <path d=\"M18.56 5.44l.94 2.06.94-2.06 2.06-.94-2.06-.94-.94-2.06-.94 2.06-2.06.94zm-11 1L8.5 8.5l.94-2.06 2.06-.94-2.06-.94L8.5 2.5l-.94 2.06-2.06.94zm10 10l.94 2.06.94-2.06 2.06-.94-2.06-.94-.94-2.06-.94 2.06-2.06.94z\"/><path d=\"M17.41 7.96l-1.37-1.37c-.4-.4-.92-.59-1.43-.59-.52 0-1.04.2-1.43.59L10.3 9.45l-7.72 7.72c-.78.78-.78 2.05 0 2.83L4 21.41c.39.39.9.59 1.41.59.51 0 1.02-.2 1.41-.59l7.78-7.78 2.81-2.81c.8-.78.8-2.07 0-2.86zM5.41 20L4 18.59l7.72-7.72 1.47 1.35L5.41 20z\"/>\n",
              "  </svg>\n",
              "      </button>\n",
              "      \n",
              "  <style>\n",
              "    .colab-df-container {\n",
              "      display:flex;\n",
              "      flex-wrap:wrap;\n",
              "      gap: 12px;\n",
              "    }\n",
              "\n",
              "    .colab-df-convert {\n",
              "      background-color: #E8F0FE;\n",
              "      border: none;\n",
              "      border-radius: 50%;\n",
              "      cursor: pointer;\n",
              "      display: none;\n",
              "      fill: #1967D2;\n",
              "      height: 32px;\n",
              "      padding: 0 0 0 0;\n",
              "      width: 32px;\n",
              "    }\n",
              "\n",
              "    .colab-df-convert:hover {\n",
              "      background-color: #E2EBFA;\n",
              "      box-shadow: 0px 1px 2px rgba(60, 64, 67, 0.3), 0px 1px 3px 1px rgba(60, 64, 67, 0.15);\n",
              "      fill: #174EA6;\n",
              "    }\n",
              "\n",
              "    [theme=dark] .colab-df-convert {\n",
              "      background-color: #3B4455;\n",
              "      fill: #D2E3FC;\n",
              "    }\n",
              "\n",
              "    [theme=dark] .colab-df-convert:hover {\n",
              "      background-color: #434B5C;\n",
              "      box-shadow: 0px 1px 3px 1px rgba(0, 0, 0, 0.15);\n",
              "      filter: drop-shadow(0px 1px 2px rgba(0, 0, 0, 0.3));\n",
              "      fill: #FFFFFF;\n",
              "    }\n",
              "  </style>\n",
              "\n",
              "      <script>\n",
              "        const buttonEl =\n",
              "          document.querySelector('#df-657a776c-a35d-4e30-9b59-44ff10e56af6 button.colab-df-convert');\n",
              "        buttonEl.style.display =\n",
              "          google.colab.kernel.accessAllowed ? 'block' : 'none';\n",
              "\n",
              "        async function convertToInteractive(key) {\n",
              "          const element = document.querySelector('#df-657a776c-a35d-4e30-9b59-44ff10e56af6');\n",
              "          const dataTable =\n",
              "            await google.colab.kernel.invokeFunction('convertToInteractive',\n",
              "                                                     [key], {});\n",
              "          if (!dataTable) return;\n",
              "\n",
              "          const docLinkHtml = 'Like what you see? Visit the ' +\n",
              "            '<a target=\"_blank\" href=https://colab.research.google.com/notebooks/data_table.ipynb>data table notebook</a>'\n",
              "            + ' to learn more about interactive tables.';\n",
              "          element.innerHTML = '';\n",
              "          dataTable['output_type'] = 'display_data';\n",
              "          await google.colab.output.renderOutput(dataTable, element);\n",
              "          const docLink = document.createElement('div');\n",
              "          docLink.innerHTML = docLinkHtml;\n",
              "          element.appendChild(docLink);\n",
              "        }\n",
              "      </script>\n",
              "    </div>\n",
              "  </div>\n",
              "  "
            ]
          },
          "metadata": {},
          "execution_count": 13
        }
      ],
      "source": [
        "df.head(10)"
      ]
    },
    {
      "cell_type": "markdown",
      "metadata": {
        "id": "CRbAyvNrFc57"
      },
      "source": [
        "### Question 2.3\n",
        "\n",
        "Find the age of the oldest and youngest person in the dataset [1]\n",
        "\n",
        "Hint: you can use the `print(..., ...)` function to display the two values if you construct it as two arguments"
      ]
    },
    {
      "cell_type": "code",
      "execution_count": 14,
      "metadata": {
        "id": "9pGlxn95Fc57",
        "outputId": "93f37fd8-e3ca-499e-fa61-8668b36de039",
        "colab": {
          "base_uri": "https://localhost:8080/"
        }
      },
      "outputs": [
        {
          "output_type": "stream",
          "name": "stdout",
          "text": [
            "18 80\n"
          ]
        }
      ],
      "source": [
        "print(min(df.age), max(df.age))"
      ]
    },
    {
      "cell_type": "markdown",
      "metadata": {
        "id": "mF7q-2LUFc58"
      },
      "source": [
        "### Question 2.4\n",
        "\n",
        "Draw descriptive statistics (one-liner) for the `age` column - these statistics should include `count`, `mean`, and `std` [1]\n",
        "\n",
        "Hint: this command has a parallel in R"
      ]
    },
    {
      "cell_type": "code",
      "execution_count": 15,
      "metadata": {
        "id": "ZsVR8slGFc58",
        "outputId": "df044877-6b51-42e5-9882-aa5f3a65207e",
        "colab": {
          "base_uri": "https://localhost:8080/"
        }
      },
      "outputs": [
        {
          "output_type": "execute_result",
          "data": {
            "text/plain": [
              "count    2357.000000\n",
              "mean       49.054731\n",
              "std        18.206348\n",
              "min        18.000000\n",
              "25%        33.000000\n",
              "50%        49.000000\n",
              "75%        65.000000\n",
              "max        80.000000\n",
              "Name: age, dtype: float64"
            ]
          },
          "metadata": {},
          "execution_count": 15
        }
      ],
      "source": [
        "df.age.describe()"
      ]
    },
    {
      "cell_type": "markdown",
      "metadata": {
        "id": "3C1UrsYvFc58"
      },
      "source": [
        "### Question 2.5\n",
        "\n",
        "* Using anonymous functions (`lambda`), create a `surname` column from the name column (you may assume that the last word without a space is the surname) [2]\n",
        "* Display the last 10 lines of your dataframe [1]\n"
      ]
    },
    {
      "cell_type": "code",
      "execution_count": 16,
      "metadata": {
        "id": "-Wzf579TFc59",
        "outputId": "38d0a1be-d7b6-4391-fa6d-02d9a0b843ae",
        "colab": {
          "base_uri": "https://localhost:8080/",
          "height": 206
        }
      },
      "outputs": [
        {
          "output_type": "execute_result",
          "data": {
            "text/plain": [
              "      user_id                 name  gender  age                   address  \\\n",
              "2352     2353      Brittney Graham  female   40        Brownland-CO-71229   \n",
              "2353     2354      Allison Schmidt  female   43       Port Logan-MD-38588   \n",
              "2354     2355  Christopher Johnson    male   68  North Justinton-VA-32798   \n",
              "2355     2356           Mark Brown    male   67   New Kayleefurt-MA-82581   \n",
              "2356     2357      Steven Robinson    male   45        Mistytown-HI-31737   \n",
              "\n",
              "     date_joined   surname  \n",
              "2352  2005/07/10    Graham  \n",
              "2353  2008/11/30   Schmidt  \n",
              "2354  2006/08/01   Johnson  \n",
              "2355  2013/11/16     Brown  \n",
              "2356  2015/03/21  Robinson  "
            ],
            "text/html": [
              "\n",
              "  <div id=\"df-218fa44f-3849-4ac6-9718-5589da0120dc\">\n",
              "    <div class=\"colab-df-container\">\n",
              "      <div>\n",
              "<style scoped>\n",
              "    .dataframe tbody tr th:only-of-type {\n",
              "        vertical-align: middle;\n",
              "    }\n",
              "\n",
              "    .dataframe tbody tr th {\n",
              "        vertical-align: top;\n",
              "    }\n",
              "\n",
              "    .dataframe thead th {\n",
              "        text-align: right;\n",
              "    }\n",
              "</style>\n",
              "<table border=\"1\" class=\"dataframe\">\n",
              "  <thead>\n",
              "    <tr style=\"text-align: right;\">\n",
              "      <th></th>\n",
              "      <th>user_id</th>\n",
              "      <th>name</th>\n",
              "      <th>gender</th>\n",
              "      <th>age</th>\n",
              "      <th>address</th>\n",
              "      <th>date_joined</th>\n",
              "      <th>surname</th>\n",
              "    </tr>\n",
              "  </thead>\n",
              "  <tbody>\n",
              "    <tr>\n",
              "      <th>2352</th>\n",
              "      <td>2353</td>\n",
              "      <td>Brittney Graham</td>\n",
              "      <td>female</td>\n",
              "      <td>40</td>\n",
              "      <td>Brownland-CO-71229</td>\n",
              "      <td>2005/07/10</td>\n",
              "      <td>Graham</td>\n",
              "    </tr>\n",
              "    <tr>\n",
              "      <th>2353</th>\n",
              "      <td>2354</td>\n",
              "      <td>Allison Schmidt</td>\n",
              "      <td>female</td>\n",
              "      <td>43</td>\n",
              "      <td>Port Logan-MD-38588</td>\n",
              "      <td>2008/11/30</td>\n",
              "      <td>Schmidt</td>\n",
              "    </tr>\n",
              "    <tr>\n",
              "      <th>2354</th>\n",
              "      <td>2355</td>\n",
              "      <td>Christopher Johnson</td>\n",
              "      <td>male</td>\n",
              "      <td>68</td>\n",
              "      <td>North Justinton-VA-32798</td>\n",
              "      <td>2006/08/01</td>\n",
              "      <td>Johnson</td>\n",
              "    </tr>\n",
              "    <tr>\n",
              "      <th>2355</th>\n",
              "      <td>2356</td>\n",
              "      <td>Mark Brown</td>\n",
              "      <td>male</td>\n",
              "      <td>67</td>\n",
              "      <td>New Kayleefurt-MA-82581</td>\n",
              "      <td>2013/11/16</td>\n",
              "      <td>Brown</td>\n",
              "    </tr>\n",
              "    <tr>\n",
              "      <th>2356</th>\n",
              "      <td>2357</td>\n",
              "      <td>Steven Robinson</td>\n",
              "      <td>male</td>\n",
              "      <td>45</td>\n",
              "      <td>Mistytown-HI-31737</td>\n",
              "      <td>2015/03/21</td>\n",
              "      <td>Robinson</td>\n",
              "    </tr>\n",
              "  </tbody>\n",
              "</table>\n",
              "</div>\n",
              "      <button class=\"colab-df-convert\" onclick=\"convertToInteractive('df-218fa44f-3849-4ac6-9718-5589da0120dc')\"\n",
              "              title=\"Convert this dataframe to an interactive table.\"\n",
              "              style=\"display:none;\">\n",
              "        \n",
              "  <svg xmlns=\"http://www.w3.org/2000/svg\" height=\"24px\"viewBox=\"0 0 24 24\"\n",
              "       width=\"24px\">\n",
              "    <path d=\"M0 0h24v24H0V0z\" fill=\"none\"/>\n",
              "    <path d=\"M18.56 5.44l.94 2.06.94-2.06 2.06-.94-2.06-.94-.94-2.06-.94 2.06-2.06.94zm-11 1L8.5 8.5l.94-2.06 2.06-.94-2.06-.94L8.5 2.5l-.94 2.06-2.06.94zm10 10l.94 2.06.94-2.06 2.06-.94-2.06-.94-.94-2.06-.94 2.06-2.06.94z\"/><path d=\"M17.41 7.96l-1.37-1.37c-.4-.4-.92-.59-1.43-.59-.52 0-1.04.2-1.43.59L10.3 9.45l-7.72 7.72c-.78.78-.78 2.05 0 2.83L4 21.41c.39.39.9.59 1.41.59.51 0 1.02-.2 1.41-.59l7.78-7.78 2.81-2.81c.8-.78.8-2.07 0-2.86zM5.41 20L4 18.59l7.72-7.72 1.47 1.35L5.41 20z\"/>\n",
              "  </svg>\n",
              "      </button>\n",
              "      \n",
              "  <style>\n",
              "    .colab-df-container {\n",
              "      display:flex;\n",
              "      flex-wrap:wrap;\n",
              "      gap: 12px;\n",
              "    }\n",
              "\n",
              "    .colab-df-convert {\n",
              "      background-color: #E8F0FE;\n",
              "      border: none;\n",
              "      border-radius: 50%;\n",
              "      cursor: pointer;\n",
              "      display: none;\n",
              "      fill: #1967D2;\n",
              "      height: 32px;\n",
              "      padding: 0 0 0 0;\n",
              "      width: 32px;\n",
              "    }\n",
              "\n",
              "    .colab-df-convert:hover {\n",
              "      background-color: #E2EBFA;\n",
              "      box-shadow: 0px 1px 2px rgba(60, 64, 67, 0.3), 0px 1px 3px 1px rgba(60, 64, 67, 0.15);\n",
              "      fill: #174EA6;\n",
              "    }\n",
              "\n",
              "    [theme=dark] .colab-df-convert {\n",
              "      background-color: #3B4455;\n",
              "      fill: #D2E3FC;\n",
              "    }\n",
              "\n",
              "    [theme=dark] .colab-df-convert:hover {\n",
              "      background-color: #434B5C;\n",
              "      box-shadow: 0px 1px 3px 1px rgba(0, 0, 0, 0.15);\n",
              "      filter: drop-shadow(0px 1px 2px rgba(0, 0, 0, 0.3));\n",
              "      fill: #FFFFFF;\n",
              "    }\n",
              "  </style>\n",
              "\n",
              "      <script>\n",
              "        const buttonEl =\n",
              "          document.querySelector('#df-218fa44f-3849-4ac6-9718-5589da0120dc button.colab-df-convert');\n",
              "        buttonEl.style.display =\n",
              "          google.colab.kernel.accessAllowed ? 'block' : 'none';\n",
              "\n",
              "        async function convertToInteractive(key) {\n",
              "          const element = document.querySelector('#df-218fa44f-3849-4ac6-9718-5589da0120dc');\n",
              "          const dataTable =\n",
              "            await google.colab.kernel.invokeFunction('convertToInteractive',\n",
              "                                                     [key], {});\n",
              "          if (!dataTable) return;\n",
              "\n",
              "          const docLinkHtml = 'Like what you see? Visit the ' +\n",
              "            '<a target=\"_blank\" href=https://colab.research.google.com/notebooks/data_table.ipynb>data table notebook</a>'\n",
              "            + ' to learn more about interactive tables.';\n",
              "          element.innerHTML = '';\n",
              "          dataTable['output_type'] = 'display_data';\n",
              "          await google.colab.output.renderOutput(dataTable, element);\n",
              "          const docLink = document.createElement('div');\n",
              "          docLink.innerHTML = docLinkHtml;\n",
              "          element.appendChild(docLink);\n",
              "        }\n",
              "      </script>\n",
              "    </div>\n",
              "  </div>\n",
              "  "
            ]
          },
          "metadata": {},
          "execution_count": 16
        }
      ],
      "source": [
        "df['surname'] = df.name.map(lambda x: x.split(' ')[1])\n",
        "df.tail()"
      ]
    },
    {
      "cell_type": "markdown",
      "metadata": {
        "id": "qaEvq1BLFc59"
      },
      "source": [
        "### Question 2.6\n",
        "\n",
        "* Convert `date_joined` to a pandas series of type `datetime`  [1]\n",
        "* Overwrite the original `date_joined` column with the result [1]"
      ]
    },
    {
      "cell_type": "code",
      "execution_count": 17,
      "metadata": {
        "id": "hBXxQ2mWFc59",
        "outputId": "90c965f9-3b71-4d5b-c052-b8c68b30a540",
        "colab": {
          "base_uri": "https://localhost:8080/"
        }
      },
      "outputs": [
        {
          "output_type": "execute_result",
          "data": {
            "text/plain": [
              "0      2019-03-13\n",
              "1      2020-11-06\n",
              "2      2004-05-29\n",
              "3      2005-08-26\n",
              "4      2018-04-30\n",
              "          ...    \n",
              "2352   2005-07-10\n",
              "2353   2008-11-30\n",
              "2354   2006-08-01\n",
              "2355   2013-11-16\n",
              "2356   2015-03-21\n",
              "Name: date_joined, Length: 2357, dtype: datetime64[ns]"
            ]
          },
          "metadata": {},
          "execution_count": 17
        }
      ],
      "source": [
        "pd.to_datetime(df.date_joined)"
      ]
    },
    {
      "cell_type": "code",
      "execution_count": 18,
      "metadata": {
        "id": "gd-wL7WWFc59"
      },
      "outputs": [],
      "source": [
        "df.date_joined = pd.to_datetime(df.date_joined)"
      ]
    },
    {
      "cell_type": "markdown",
      "metadata": {
        "id": "_ZpMV8WbFc5-"
      },
      "source": [
        "## Question 3: Git\n",
        "\n",
        "Push your notebook to Git. If you don't have any Git tooling installed on your machines, download a preferred tool.\n",
        "\n",
        " * Create a repository (named `day1-tutorial`) on Gitlab (check your student email for sign-up/membership request to Gitlab) [1]\n",
        " * Push this notebook to that repository [1]"
      ]
    },
    {
      "cell_type": "code",
      "execution_count": null,
      "metadata": {
        "id": "YedHQvMbFc5-"
      },
      "outputs": [],
      "source": [
        ""
      ]
    }
  ],
  "metadata": {
    "kernelspec": {
      "display_name": "bdt-a3",
      "language": "python",
      "name": "bdt-a3"
    },
    "language_info": {
      "codemirror_mode": {
        "name": "ipython",
        "version": 3
      },
      "file_extension": ".py",
      "mimetype": "text/x-python",
      "name": "python",
      "nbconvert_exporter": "python",
      "pygments_lexer": "ipython3",
      "version": "3.6.9"
    },
    "colab": {
      "name": "hello-python-git-assessment.ipynb",
      "provenance": []
    }
  },
  "nbformat": 4,
  "nbformat_minor": 0
}