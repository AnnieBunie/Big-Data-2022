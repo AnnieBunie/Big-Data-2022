{
  "nbformat": 4,
  "nbformat_minor": 0,
  "metadata": {
    "colab": {
      "name": "A_Lombard_PBA1.ipynb",
      "provenance": [],
      "collapsed_sections": []
    },
    "kernelspec": {
      "name": "python3",
      "display_name": "Python 3"
    },
    "language_info": {
      "name": "python"
    }
  },
  "cells": [
    {
      "cell_type": "code",
      "source": [
        "# Run and print a shell command.\n",
        "def run(cmd):\n",
        "  print('>> {}'.format(cmd))\n",
        "  !{cmd}\n",
        "  print('')\n",
        "\n",
        "run('pip install --upgrade pip')\n",
        "\n",
        "# Install apache-beam.\n",
        "run('pip install --quiet apache-beam')\n",
        "\n",
        "# Copy the input file into the local file system.\n",
        "run('mkdir -p data')\n",
        "run('wget https://storage.googleapis.com/bdt-beam/orders_v_2022.csv -O data/orders.csv')\n",
        "run('wget https://storage.googleapis.com/bdt-beam/users_v.csv -O data/users.csv')\n"
      ],
      "metadata": {
        "id": "4oU-qaTaflgK"
      },
      "execution_count": null,
      "outputs": []
    },
    {
      "cell_type": "code",
      "source": [
        "import apache_beam as beam\n",
        "import re\n",
        "\n",
        "inputs_pattern = 'data/*'\n",
        "outputs_prefix = 'outputs/part'"
      ],
      "metadata": {
        "id": "5P6Pu2Bqfnn9"
      },
      "execution_count": null,
      "outputs": []
    },
    {
      "cell_type": "code",
      "source": [
        "user_header = ['user_id', 'name', 'gender', 'age', 'address', 'date_joined']\n",
        "order_header = ['order_no', 'user_id', 'product_list', 'date_purchased']\n",
        "\n",
        "class TransformUsers(beam.DoFn):\n",
        "  def process(self, element):\n",
        "    yield dict(zip(user_header, element.split(',')))\n",
        "\n",
        "class TransformOrders(beam.DoFn):\n",
        "  def process(self, element):\n",
        "    yield dict(zip(order_header, element.split(';')))\n",
        "\n",
        "with beam.Pipeline() as pipeline:\n",
        "  users = (pipeline \n",
        "    | 'ReadUsers' >> beam.io.ReadFromText('data/users.csv', skip_header_lines=1)\n",
        "    | 'FormatUsers' >> beam.ParDo(TransformUsers())\n",
        "    # | 'printUsers' >> beam.Map(print) \n",
        "  )\n",
        "  orders = (pipeline \n",
        "    | 'ReadOrders' >> beam.io.ReadFromText('data/orders.csv', skip_header_lines=1)\n",
        "    | 'FormatOrders' >> beam.ParDo(TransformOrders())\n",
        "    # | 'printOrders' >> beam.Map(print) \n",
        "  )\n",
        "  userOrders = (\n",
        "      (users, orders)\n",
        "      | 'join' >> beam.CoGroupByKey()\n",
        "      | 'print' >> beam.Map(print)\n",
        "  )\n"
      ],
      "metadata": {
        "id": "uhHTbqpof7oI"
      },
      "execution_count": null,
      "outputs": []
    },
    {
      "cell_type": "code",
      "source": [
        "user_header = ['user_id', 'name', 'gender', 'age', 'address', 'date_joined']\n",
        "order_header = ['order_no', 'user_id', 'product_list', 'date_purchased']\n",
        "\n",
        "class TransformUsers(beam.DoFn):\n",
        "  def process(self, element):\n",
        "    yield dict(zip(user_header, element.split(',')))\n",
        "\n",
        "class TransformOrders(beam.DoFn):\n",
        "  def process(self, element):\n",
        "    yield dict(zip(order_header, element.split(';')))\n",
        "\n",
        "class AverageFn(beam.DoFn):\n",
        "    def process(self, element, count):\n",
        "        yield (element[0], element[1]/count) \n",
        "\n",
        "with beam.Pipeline() as pipeline:\n",
        "  users = (pipeline \n",
        "    | 'ReadUsers' >> beam.io.ReadFromText('data/users.csv', skip_header_lines=1)\n",
        "    | 'FormatUsers' >> beam.ParDo(TransformUsers())\n",
        "    # | 'printUsers' >> beam.Map(print) \n",
        "  )\n",
        "  orders = (pipeline \n",
        "    | 'ReadOrders' >> beam.io.ReadFromText('data/orders.csv', skip_header_lines=1)\n",
        "    | 'FormatOrders' >> beam.ParDo(TransformOrders())\n",
        "    # | 'printOrders' >> beam.Map(print) \n",
        "  )\n",
        "  userOrders = (\n",
        "      (users, orders)\n",
        "      | 'join' >> beam.CoGroupByKey()\n",
        "      | 'key' >> beam.Map(lambda elem: (elem[2], 1))\n",
        "      | 'sum' >> beam.CombinePerKey(sum)\n",
        "      | 'average' >> beam.ParDo(AverageFn(), beam.pvalue.AsSingleton(totals))\n",
        "      | 'print' >> beam.Map(print)\n",
        "  )\n"
      ],
      "metadata": {
        "id": "jrN6ZE9yf8gC"
      },
      "execution_count": null,
      "outputs": []
    },
    {
      "cell_type": "code",
      "source": [
        "user_header = ['user_id', 'name', 'gender', 'age', 'address', 'date_joined']\n",
        "order_header = ['order_no', 'user_id', 'product_list', 'date_purchased']\n",
        "\n",
        "class TransformUsers(beam.DoFn):\n",
        "  def process(self, element):\n",
        "    yield dict(zip(user_header, element.split(',')))\n",
        "\n",
        "class TransformOrders(beam.DoFn):\n",
        "  def process(self, element):\n",
        "    yield dict(zip(order_header, element.split(';')))\n",
        "\n",
        "class AverageFn(beam.DoFn):\n",
        "    def process(self, element, count):\n",
        "        yield (element[0], element[1]/count) \n",
        "\n",
        "class Count(beam.DoFn):\n",
        "  def process(self, element):\n",
        "    yield (element[0], len(element[1]))\n",
        "\n",
        "with beam.Pipeline() as pipeline:\n",
        "  users = (pipeline \n",
        "    | 'ReadUsers' >> beam.io.ReadFromText('data/users.csv', skip_header_lines=1)\n",
        "    | 'FormatUsers' >> beam.ParDo(TransformUsers())\n",
        "    # | 'printUsers' >> beam.Map(print) \n",
        "  )\n",
        "  orders = (pipeline \n",
        "    | 'ReadOrders' >> beam.io.ReadFromText('data/orders.csv', skip_header_lines=1)\n",
        "    | 'FormatOrders' >> beam.ParDo(TransformOrders())\n",
        "    # | 'printOrders' >> beam.Map(print) \n",
        "  )\n",
        "  userOrders = (\n",
        "      (users, orders)\n",
        "      | 'join' >> beam.CoGroupByKey()\n",
        "      | 'key' >> beam.Map(lambda elem: (elem[2], 1))\n",
        "      | 'sum' >> beam.CombinePerKey(sum)\n",
        "      | 'average' >> beam.ParDo(AverageFn(), beam.pvalue.AsSingleton(totals))\n",
        "      | 'print' >> beam.Map(print)\n",
        "  )\n",
        "  userOrdersTotal = (\n",
        "      (users, orders)\n",
        "      | 'join2' >> beam.CoGroupByKey()\n",
        "      | 'count' >> beam.ParDo(Count())\n",
        "      | 'printTotal' >> beam.Map(print)\n",
        "  )"
      ],
      "metadata": {
        "id": "wLQnbXwmgU8F"
      },
      "execution_count": null,
      "outputs": []
    },
    {
      "cell_type": "code",
      "source": [
        "from apache_beam import window\n",
        "\n",
        "user_header = ['user_id', 'name', 'gender', 'age', 'address', 'date_joined']\n",
        "order_header = ['order_no', 'user_id', 'product_list', 'date_purchased']\n",
        "\n",
        "class TransformUsers(beam.DoFn):\n",
        "  def process(self, element):\n",
        "    yield dict(zip(user_header, element.split(',')))\n",
        "\n",
        "class TransformOrders(beam.DoFn):\n",
        "  def process(self, element):\n",
        "    yield dict(zip(order_header, element.split(';')))\n",
        "\n",
        "class VegetableOrderDoFn(beam.DoFn):\n",
        "    def process(self, element, count):\n",
        "        yield set([x for x in element[0] if element[0].count(x) > 1])\n",
        "\n",
        "with beam.Pipeline() as pipeline:\n",
        "  users = (pipeline \n",
        "    | 'ReadUsers' >> beam.io.ReadFromText('data/users.csv', skip_header_lines=1)\n",
        "    | 'FormatUsers' >> beam.ParDo(TransformUsers())\n",
        "    # | 'printUsers' >> beam.Map(print) \n",
        "  )\n",
        "  orders = (pipeline \n",
        "    | 'ReadOrders' >> beam.io.ReadFromText('data/orders.csv', skip_header_lines=1)\n",
        "    | 'FormatOrders' >> beam.ParDo(TransformOrders())\n",
        "    # | 'printOrders' >> beam.Map(print) \n",
        "  )\n",
        "  userOrders = (\n",
        "      (users, orders)\n",
        "      | 'join' >> beam.CoGroupByKey()\n",
        "  )\n",
        "  windowUserOrders = (\n",
        "    userOrders \n",
        "    | 'window' >> beam.WindowInto(window.Sessions(24*60*60))\n",
        "    | 'unique' >> beam.ParDo(VegetableOrderDoFn())\n",
        "    | 'print' >> beam.Map(print) \n",
        "  )"
      ],
      "metadata": {
        "id": "_NY5eT3Mga5S"
      },
      "execution_count": null,
      "outputs": []
    }
  ]
}